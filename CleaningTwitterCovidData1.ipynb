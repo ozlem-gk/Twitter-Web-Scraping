{
 "cells": [
  {
   "cell_type": "code",
   "execution_count": null,
   "id": "63538a00",
   "metadata": {},
   "outputs": [],
   "source": [
    "import os\n",
    "import tweepy as tw\n",
    "import pandas as pd\n",
    "from tqdm import tqdm, notebook\n",
    "\n",
    "pd.set_option('display.max_columns', None)\n",
    "pd.set_option('display.max_rows', None)\n",
    "pd.set_option('display.max_colwidth', None)\n",
    "pd.set_option('display.width', None)"
   ]
  },
  {
   "cell_type": "code",
   "execution_count": null,
   "id": "7c1f36fe",
   "metadata": {},
   "outputs": [],
   "source": [
    "%run ./Keys.ipynb"
   ]
  },
  {
   "cell_type": "code",
   "execution_count": null,
   "id": "1ebc4c2d",
   "metadata": {},
   "outputs": [],
   "source": [
    "auth = tw.OAuthHandler(consumer_key, consumer_secret)\n",
    "auth.set_access_token(access_token, access_token_secret)\n",
    "api = tw.API(auth, wait_on_rate_limit=True)"
   ]
  },
  {
   "cell_type": "code",
   "execution_count": null,
   "id": "8a3a73f6",
   "metadata": {},
   "outputs": [],
   "source": [
    "search_words = \"#covid19 -filter:retweets\"\n",
    "date_since = \"2020-03-01\"\n",
    "# Collect tweets\n",
    "tweets = tw.Cursor(api.search_tweets, q=search_words,lang=\"en\", since=date_since).items(12452)"
   ]
  },
  {
   "cell_type": "code",
   "execution_count": null,
   "id": "2cc663b0",
   "metadata": {},
   "outputs": [],
   "source": [
    "tweets_copy = []\n",
    "for tweet in tqdm(tweets):\n",
    "     tweets_copy.append(tweet)"
   ]
  },
  {
   "cell_type": "code",
   "execution_count": null,
   "id": "7b018e89",
   "metadata": {},
   "outputs": [],
   "source": [
    "print(f\"new tweets retrieved: {len(tweets_copy)}\")"
   ]
  },
  {
   "cell_type": "code",
   "execution_count": null,
   "id": "a5bfb438",
   "metadata": {},
   "outputs": [],
   "source": [
    "tweets_df = pd.DataFrame()\n",
    "for tweet in tqdm(tweets_copy):\n",
    "    hashtags = []\n",
    "    try:\n",
    "        for hashtag in tweet.entities[\"hashtags\"]:\n",
    "            hashtags.append(hashtag[\"text\"])\n",
    "        text = api.get_status(id=tweet.id, tweet_mode='extended').full_text\n",
    "    except:\n",
    "        pass\n",
    "    tweets_df = tweets_df.append(pd.DataFrame({'user_name': tweet.user.name, \n",
    "                                               'user_location': tweet.user.location,\\\n",
    "                                               'user_description': tweet.user.description,\n",
    "                                               'user_created': tweet.user.created_at,\n",
    "                                               'user_followers': tweet.user.followers_count,\n",
    "                                               'user_friends': tweet.user.friends_count,\n",
    "                                               'user_favourites': tweet.user.favourites_count,\n",
    "                                               'user_verified': tweet.user.verified,\n",
    "                                               'date': tweet.created_at,\n",
    "                                               'text': text, \n",
    "                                               'hashtags': [hashtags if hashtags else None],\n",
    "                                               'source': tweet.source,\n",
    "                                               'is_retweet': tweet.retweeted}, index=[0]))"
   ]
  },
  {
   "cell_type": "code",
   "execution_count": null,
   "id": "1235e99e",
   "metadata": {},
   "outputs": [],
   "source": [
    "tweets_df.head()"
   ]
  },
  {
   "cell_type": "code",
   "execution_count": null,
   "id": "67493a2d",
   "metadata": {},
   "outputs": [],
   "source": [
    "tweets_df.to_csv('covid19_tweets.csv')"
   ]
  },
  {
   "cell_type": "code",
   "execution_count": null,
   "id": "6d1a16e3",
   "metadata": {},
   "outputs": [],
   "source": [
    "tweets_df.columns"
   ]
  },
  {
   "cell_type": "code",
   "execution_count": null,
   "id": "7621df51",
   "metadata": {},
   "outputs": [],
   "source": [
    "import seaborn as sns\n",
    "import matplotlib.pyplot as plt\n",
    "import warnings\n",
    "warnings.filterwarnings('ignore')"
   ]
  },
  {
   "cell_type": "code",
   "execution_count": null,
   "id": "e7b5565d",
   "metadata": {},
   "outputs": [],
   "source": [
    "tweets_df['source'].unique"
   ]
  },
  {
   "cell_type": "code",
   "execution_count": null,
   "id": "84650585",
   "metadata": {},
   "outputs": [],
   "source": [
    "tweets_df['source'].value_counts()"
   ]
  },
  {
   "cell_type": "markdown",
   "id": "88a2a603",
   "metadata": {},
   "source": [
    "### Tweetlerde Test Analizi"
   ]
  },
  {
   "cell_type": "code",
   "execution_count": null,
   "id": "c1e888aa",
   "metadata": {},
   "outputs": [],
   "source": [
    "pip install neattext"
   ]
  },
  {
   "cell_type": "code",
   "execution_count": null,
   "id": "8d53e78b",
   "metadata": {},
   "outputs": [],
   "source": [
    "import neattext.functions as nfx"
   ]
  },
  {
   "cell_type": "code",
   "execution_count": null,
   "id": "2781d283",
   "metadata": {},
   "outputs": [],
   "source": [
    "dir(nfx)"
   ]
  },
  {
   "cell_type": "code",
   "execution_count": null,
   "id": "8bbb4ae7",
   "metadata": {},
   "outputs": [],
   "source": [
    "tweets_df['text']"
   ]
  },
  {
   "cell_type": "markdown",
   "id": "05b442ab",
   "metadata": {},
   "source": [
    "### Noise\n",
    "+Twittlerdeki bahsetmeleri, hashtagleri, url ve emojileri kaldırma"
   ]
  },
  {
   "cell_type": "code",
   "execution_count": null,
   "id": "9493d78d",
   "metadata": {},
   "outputs": [],
   "source": [
    "tweets_df['text'].apply(nfx.extract_hashtags)"
   ]
  },
  {
   "cell_type": "code",
   "execution_count": null,
   "id": "61ba28f7",
   "metadata": {},
   "outputs": [],
   "source": [
    "tweets_df['extract_hashtags'] = tweets_df['text'].apply(nfx.extract_hashtags)"
   ]
  },
  {
   "cell_type": "code",
   "execution_count": null,
   "id": "4fa02724",
   "metadata": {},
   "outputs": [],
   "source": [
    "tweets_df[['extract_hashtags','hashtags']]"
   ]
  },
  {
   "cell_type": "code",
   "execution_count": null,
   "id": "28aaa113",
   "metadata": {},
   "outputs": [],
   "source": [
    "#Textlerden hashtagleri kaldirma\n",
    "tweets_df['clean_tweet'] = tweets_df['text'].apply(nfx.remove_hashtags)"
   ]
  },
  {
   "cell_type": "code",
   "execution_count": null,
   "id": "b3318ba8",
   "metadata": {},
   "outputs": [],
   "source": [
    "tweets_df[['text', 'clean_tweet']]"
   ]
  },
  {
   "cell_type": "code",
   "execution_count": null,
   "id": "647dec4a",
   "metadata": {},
   "outputs": [],
   "source": [
    "tweets_df['clean_tweet'] = tweets_df['clean_tweet'].apply(lambda x: nfx.remove_userhandles(x))"
   ]
  },
  {
   "cell_type": "code",
   "execution_count": null,
   "id": "a859e606",
   "metadata": {},
   "outputs": [],
   "source": [
    "tweets_df[['text', 'clean_tweet']]"
   ]
  },
  {
   "cell_type": "code",
   "execution_count": null,
   "id": "299732d8",
   "metadata": {},
   "outputs": [],
   "source": [
    "#Textlerden boşlukları kaldirma\n",
    "tweets_df['clean_tweet'] = tweets_df['clean_tweet'].apply(nfx.remove_multiple_spaces)"
   ]
  },
  {
   "cell_type": "code",
   "execution_count": null,
   "id": "f725977d",
   "metadata": {},
   "outputs": [],
   "source": [
    "#Textlerden url kaldirma\n",
    "tweets_df['clean_tweet'] = tweets_df['clean_tweet'].apply(nfx.remove_urls)"
   ]
  },
  {
   "cell_type": "code",
   "execution_count": null,
   "id": "667d52a5",
   "metadata": {},
   "outputs": [],
   "source": [
    "#Textlerden noktalama işaretleri kaldirma\n",
    "tweets_df['clean_tweet'] = tweets_df['clean_tweet'].apply(nfx.remove_puncts)"
   ]
  },
  {
   "cell_type": "code",
   "execution_count": null,
   "id": "3e76b1c2",
   "metadata": {},
   "outputs": [],
   "source": [
    "tweets_df[['text', 'clean_tweet']]"
   ]
  },
  {
   "cell_type": "code",
   "execution_count": null,
   "id": "320b835c",
   "metadata": {},
   "outputs": [],
   "source": []
  }
 ],
 "metadata": {
  "kernelspec": {
   "display_name": "Python 3 (ipykernel)",
   "language": "python",
   "name": "python3"
  },
  "language_info": {
   "codemirror_mode": {
    "name": "ipython",
    "version": 3
   },
   "file_extension": ".py",
   "mimetype": "text/x-python",
   "name": "python",
   "nbconvert_exporter": "python",
   "pygments_lexer": "ipython3",
   "version": "3.9.12"
  }
 },
 "nbformat": 4,
 "nbformat_minor": 5
}
