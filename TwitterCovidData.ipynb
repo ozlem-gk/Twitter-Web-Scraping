{
 "cells": [
  {
   "cell_type": "code",
   "execution_count": null,
   "id": "63538a00",
   "metadata": {},
   "outputs": [],
   "source": [
    "import os\n",
    "import tweepy as tw\n",
    "import pandas as pd\n",
    "from tqdm import tqdm, notebook\n",
    "\n",
    "pd.set_option('display.max_columns', None)\n",
    "pd.set_option('display.max_rows', None)\n",
    "pd.set_option('display.max_colwidth', None)\n",
    "pd.set_option('display.width', None)"
   ]
  },
  {
   "cell_type": "code",
   "execution_count": null,
   "id": "7c1f36fe",
   "metadata": {},
   "outputs": [],
   "source": [
    "%run ./Keys.ipynb"
   ]
  },
  {
   "cell_type": "code",
   "execution_count": null,
   "id": "1ebc4c2d",
   "metadata": {},
   "outputs": [],
   "source": [
    "auth = tw.OAuthHandler(consumer_key, consumer_secret)\n",
    "auth.set_access_token(access_token, access_token_secret)\n",
    "api = tw.API(auth, wait_on_rate_limit=True)"
   ]
  },
  {
   "cell_type": "code",
   "execution_count": null,
   "id": "8a3a73f6",
   "metadata": {},
   "outputs": [],
   "source": [
    "search_words = \"#covid19 -filter:retweets\"\n",
    "date_since = \"2020-03-01\"\n",
    "# Collect tweets\n",
    "tweets = tw.Cursor(api.search_tweets, q=search_words,lang=\"en\", since=date_since).items(12452)"
   ]
  },
  {
   "cell_type": "code",
   "execution_count": null,
   "id": "2cc663b0",
   "metadata": {},
   "outputs": [],
   "source": [
    "tweets_copy = []\n",
    "for tweet in tqdm(tweets):\n",
    "     tweets_copy.append(tweet)"
   ]
  },
  {
   "cell_type": "code",
   "execution_count": null,
   "id": "7b018e89",
   "metadata": {},
   "outputs": [],
   "source": [
    "print(f\"new tweets retrieved: {len(tweets_copy)}\")"
   ]
  },
  {
   "cell_type": "code",
   "execution_count": null,
   "id": "a5bfb438",
   "metadata": {},
   "outputs": [],
   "source": [
    "tweets_df = pd.DataFrame()\n",
    "for tweet in tqdm(tweets_copy):\n",
    "    hashtags = []\n",
    "    try:\n",
    "        for hashtag in tweet.entities[\"hashtags\"]:\n",
    "            hashtags.append(hashtag[\"text\"])\n",
    "        text = api.get_status(id=tweet.id, tweet_mode='extended').full_text\n",
    "    except:\n",
    "        pass\n",
    "    tweets_df = tweets_df.append(pd.DataFrame({'user_name': tweet.user.name, \n",
    "                                               'user_location': tweet.user.location,\\\n",
    "                                               'user_description': tweet.user.description,\n",
    "                                               'user_created': tweet.user.created_at,\n",
    "                                               'user_followers': tweet.user.followers_count,\n",
    "                                               'user_friends': tweet.user.friends_count,\n",
    "                                               'user_favourites': tweet.user.favourites_count,\n",
    "                                               'user_verified': tweet.user.verified,\n",
    "                                               'date': tweet.created_at,\n",
    "                                               'text': text, \n",
    "                                               'hashtags': [hashtags if hashtags else None],\n",
    "                                               'source': tweet.source,\n",
    "                                               'is_retweet': tweet.retweeted}, index=[0]))"
   ]
  },
  {
   "cell_type": "code",
   "execution_count": null,
   "id": "1235e99e",
   "metadata": {},
   "outputs": [],
   "source": [
    "tweets_df.head()"
   ]
  },
  {
   "cell_type": "code",
   "execution_count": 2,
   "id": "67493a2d",
   "metadata": {},
   "outputs": [
    {
     "ename": "NameError",
     "evalue": "name 'tweets_df' is not defined",
     "output_type": "error",
     "traceback": [
      "\u001b[1;31m---------------------------------------------------------------------------\u001b[0m",
      "\u001b[1;31mNameError\u001b[0m                                 Traceback (most recent call last)",
      "Input \u001b[1;32mIn [2]\u001b[0m, in \u001b[0;36m<cell line: 1>\u001b[1;34m()\u001b[0m\n\u001b[1;32m----> 1\u001b[0m \u001b[43mtweets_df\u001b[49m\u001b[38;5;241m.\u001b[39mto_csv(\u001b[38;5;124m'\u001b[39m\u001b[38;5;124mcovid19_tweets.csv\u001b[39m\u001b[38;5;124m'\u001b[39m)\n",
      "\u001b[1;31mNameError\u001b[0m: name 'tweets_df' is not defined"
     ]
    }
   ],
   "source": [
    "tweets_df.to_csv('covid19_tweets.csv')"
   ]
  },
  {
   "cell_type": "code",
   "execution_count": 3,
   "id": "1b075882",
   "metadata": {},
   "outputs": [],
   "source": [
    "import pandas as pd"
   ]
  },
  {
   "cell_type": "code",
   "execution_count": 4,
   "id": "d9690dea",
   "metadata": {},
   "outputs": [],
   "source": [
    "tweets_df = pd.read_csv(\"covid19_tweets.csv\")"
   ]
  },
  {
   "cell_type": "code",
   "execution_count": 5,
   "id": "6d1a16e3",
   "metadata": {},
   "outputs": [
    {
     "data": {
      "text/plain": [
       "Index(['Unnamed: 0', 'user_name', 'user_location', 'user_description',\n",
       "       'user_created', 'user_followers', 'user_friends', 'user_favourites',\n",
       "       'user_verified', 'date', 'text', 'hashtags', 'source', 'is_retweet'],\n",
       "      dtype='object')"
      ]
     },
     "execution_count": 5,
     "metadata": {},
     "output_type": "execute_result"
    }
   ],
   "source": [
    "tweets_df.columns"
   ]
  },
  {
   "cell_type": "code",
   "execution_count": 6,
   "id": "7621df51",
   "metadata": {},
   "outputs": [],
   "source": [
    "import seaborn as sns\n",
    "import matplotlib.pyplot as plt\n",
    "import warnings\n",
    "warnings.filterwarnings('ignore')"
   ]
  },
  {
   "cell_type": "code",
   "execution_count": 7,
   "id": "e9897405",
   "metadata": {},
   "outputs": [
    {
     "data": {
      "text/plain": [
       "<bound method Series.unique of 0         Twitter for iPad\n",
       "1          Twitter Web App\n",
       "2          Twitter Web App\n",
       "3                TweetDeck\n",
       "4              TheAllINeed\n",
       "              ...         \n",
       "368        Twitter Web App\n",
       "369        Twitter Web App\n",
       "370        Twitter Web App\n",
       "371    Twitter for Android\n",
       "372    Twitter for Android\n",
       "Name: source, Length: 373, dtype: object>"
      ]
     },
     "execution_count": 7,
     "metadata": {},
     "output_type": "execute_result"
    }
   ],
   "source": [
    "tweets_df['source'].unique"
   ]
  },
  {
   "cell_type": "code",
   "execution_count": 8,
   "id": "d911013e",
   "metadata": {},
   "outputs": [
    {
     "data": {
      "text/plain": [
       "Twitter Web App                    155\n",
       "Twitter for iPhone                  58\n",
       "Twitter for Android                 48\n",
       "TweetDeck                           18\n",
       "Hootsuite Inc.                       8\n",
       "HN_Comments                          6\n",
       "LinkedIn                             5\n",
       "Microsoft Power Platform             5\n",
       "IFTTT                                5\n",
       "Buffer                               4\n",
       "Liverpool University Repository      4\n",
       "Cheap Bots, Done Quick!              3\n",
       "Sprout Social                        3\n",
       "FS twitter poster for GPE            2\n",
       "The Social Jukebox                   2\n",
       "Valurank                             2\n",
       "Twitter Media Studio                 2\n",
       "HubSpot                              2\n",
       "trackingbot2020                      2\n",
       "twittbot.net                         2\n",
       "Twitter for iPad                     2\n",
       "CoronaVirus Bot by Sloth             2\n",
       "COVID19-Updates                      2\n",
       "Hocalwire Social Share               2\n",
       "ETRetail.com                         2\n",
       "drumup.io                            1\n",
       "Lightful                             1\n",
       "rhega.net                            1\n",
       "BigDataAppMUM                        1\n",
       "ScSk                                 1\n",
       "Fenix 2                              1\n",
       "Paper.li                             1\n",
       "Hiplay                               1\n",
       "ExanteData Robots                    1\n",
       "Covid19daily                         1\n",
       "Tweepsmap                            1\n",
       "SocialPilot.co                       1\n",
       "corona-tracker-app                   1\n",
       "CliffordRibnerWeb                    1\n",
       "Zoho Social                          1\n",
       "Sprinklr                             1\n",
       "Emplifi                              1\n",
       "Clickasnap                           1\n",
       "Revive Social App                    1\n",
       "Grabyo                               1\n",
       "Zapier.com                           1\n",
       "News Medical                         1\n",
       "stocktitan                           1\n",
       "Fastestnews                          1\n",
       "Nepal Disaster Watch                 1\n",
       "TheAllINeed                          1\n",
       "Twitter for Advertisers              1\n",
       "Name: source, dtype: int64"
      ]
     },
     "execution_count": 8,
     "metadata": {},
     "output_type": "execute_result"
    }
   ],
   "source": [
    "tweets_df['source'].value_counts()"
   ]
  },
  {
   "cell_type": "markdown",
   "id": "e74f1114",
   "metadata": {},
   "source": [
    "### Tweetlerde Test Analizi"
   ]
  },
  {
   "cell_type": "code",
   "execution_count": 9,
   "id": "6bfb284e",
   "metadata": {},
   "outputs": [
    {
     "name": "stdout",
     "output_type": "stream",
     "text": [
      "Requirement already satisfied: neattext in c:\\users\\ozlem\\anaconda3\\lib\\site-packages (0.1.3)\n",
      "Note: you may need to restart the kernel to use updated packages.\n"
     ]
    }
   ],
   "source": [
    "pip install neattext"
   ]
  },
  {
   "cell_type": "code",
   "execution_count": 10,
   "id": "7329e29e",
   "metadata": {},
   "outputs": [],
   "source": [
    "import neattext.functions as nfx"
   ]
  },
  {
   "cell_type": "code",
   "execution_count": 11,
   "id": "06f9c7d3",
   "metadata": {},
   "outputs": [
    {
     "data": {
      "text/plain": [
       "['BTC_ADDRESS_REGEX',\n",
       " 'CURRENCY_REGEX',\n",
       " 'CURRENCY_SYMB_REGEX',\n",
       " 'Counter',\n",
       " 'DATE_REGEX',\n",
       " 'EMAIL_REGEX',\n",
       " 'EMOJI_REGEX',\n",
       " 'HASTAG_REGEX',\n",
       " 'MASTERCard_REGEX',\n",
       " 'MD5_SHA_REGEX',\n",
       " 'MOST_COMMON_PUNCT_REGEX',\n",
       " 'NUMBERS_REGEX',\n",
       " 'PHONE_REGEX',\n",
       " 'PoBOX_REGEX',\n",
       " 'SPECIAL_CHARACTERS_REGEX',\n",
       " 'STOPWORDS',\n",
       " 'STOPWORDS_de',\n",
       " 'STOPWORDS_en',\n",
       " 'STOPWORDS_es',\n",
       " 'STOPWORDS_fr',\n",
       " 'STOPWORDS_ru',\n",
       " 'STOPWORDS_yo',\n",
       " 'STREET_ADDRESS_REGEX',\n",
       " 'TextFrame',\n",
       " 'URL_PATTERN',\n",
       " 'USER_HANDLES_REGEX',\n",
       " 'VISACard_REGEX',\n",
       " '__builtins__',\n",
       " '__cached__',\n",
       " '__doc__',\n",
       " '__file__',\n",
       " '__generate_text',\n",
       " '__loader__',\n",
       " '__name__',\n",
       " '__numbers_dict',\n",
       " '__package__',\n",
       " '__spec__',\n",
       " '_lex_richness_herdan',\n",
       " '_lex_richness_maas_ttr',\n",
       " 'clean_text',\n",
       " 'defaultdict',\n",
       " 'digit2words',\n",
       " 'extract_btc_address',\n",
       " 'extract_currencies',\n",
       " 'extract_currency_symbols',\n",
       " 'extract_dates',\n",
       " 'extract_emails',\n",
       " 'extract_emojis',\n",
       " 'extract_hashtags',\n",
       " 'extract_html_tags',\n",
       " 'extract_mastercard_addr',\n",
       " 'extract_md5sha',\n",
       " 'extract_numbers',\n",
       " 'extract_pattern',\n",
       " 'extract_phone_numbers',\n",
       " 'extract_postoffice_box',\n",
       " 'extract_shortwords',\n",
       " 'extract_special_characters',\n",
       " 'extract_stopwords',\n",
       " 'extract_street_address',\n",
       " 'extract_terms_in_bracket',\n",
       " 'extract_urls',\n",
       " 'extract_userhandles',\n",
       " 'extract_visacard_addr',\n",
       " 'fix_contractions',\n",
       " 'generate_sentence',\n",
       " 'hamming_distance',\n",
       " 'inverse_df',\n",
       " 'lexical_richness',\n",
       " 'markov_chain',\n",
       " 'math',\n",
       " 'nlargest',\n",
       " 'normalize',\n",
       " 'num2words',\n",
       " 'random',\n",
       " 're',\n",
       " 'read_txt',\n",
       " 'remove_accents',\n",
       " 'remove_bad_quotes',\n",
       " 'remove_btc_address',\n",
       " 'remove_currencies',\n",
       " 'remove_currency_symbols',\n",
       " 'remove_custom_pattern',\n",
       " 'remove_custom_words',\n",
       " 'remove_dates',\n",
       " 'remove_emails',\n",
       " 'remove_emojis',\n",
       " 'remove_hashtags',\n",
       " 'remove_html_tags',\n",
       " 'remove_mastercard_addr',\n",
       " 'remove_md5sha',\n",
       " 'remove_multiple_spaces',\n",
       " 'remove_non_ascii',\n",
       " 'remove_numbers',\n",
       " 'remove_phone_numbers',\n",
       " 'remove_postoffice_box',\n",
       " 'remove_puncts',\n",
       " 'remove_punctuations',\n",
       " 'remove_shortwords',\n",
       " 'remove_special_characters',\n",
       " 'remove_stopwords',\n",
       " 'remove_street_address',\n",
       " 'remove_terms_in_bracket',\n",
       " 'remove_urls',\n",
       " 'remove_userhandles',\n",
       " 'remove_visacard_addr',\n",
       " 'replace_bad_quotes',\n",
       " 'replace_currencies',\n",
       " 'replace_currency_symbols',\n",
       " 'replace_dates',\n",
       " 'replace_emails',\n",
       " 'replace_emojis',\n",
       " 'replace_numbers',\n",
       " 'replace_phone_numbers',\n",
       " 'replace_special_characters',\n",
       " 'replace_term',\n",
       " 'replace_urls',\n",
       " 'string',\n",
       " 'term_freq',\n",
       " 'to_txt',\n",
       " 'unicodedata',\n",
       " 'word_freq',\n",
       " 'word_length_freq']"
      ]
     },
     "execution_count": 11,
     "metadata": {},
     "output_type": "execute_result"
    }
   ],
   "source": [
    "dir(nfx)"
   ]
  },
  {
   "cell_type": "code",
   "execution_count": 12,
   "id": "ebe33a9a",
   "metadata": {},
   "outputs": [
    {
     "data": {
      "text/plain": [
       "0      Association Between Time Interval from #COVID1...\n",
       "1      Threat In India From New Covid Variant Of BF.7...\n",
       "2      If Illinois is any better off financially for ...\n",
       "3      DOH reports 1,196 new #COVID19 cases, 34 death...\n",
       "4      #Qatar World Cup spy apps\\n#COVID19 #Ehteraz #...\n",
       "                             ...                        \n",
       "368    #Byju’s standalone business reported a loss fo...\n",
       "369    New from @Airfinity - #vaccine prices increase...\n",
       "370    #COVID19 has caused a reduction in life expect...\n",
       "371    #Omicron subvariant BF.7, which is leading to ...\n",
       "372    Experts slam Boston lab where scientists have ...\n",
       "Name: text, Length: 373, dtype: object"
      ]
     },
     "execution_count": 12,
     "metadata": {},
     "output_type": "execute_result"
    }
   ],
   "source": [
    "tweets_df['text']"
   ]
  },
  {
   "cell_type": "markdown",
   "id": "7cd986bf",
   "metadata": {},
   "source": [
    "### Twitleri Gürültülerden Temizleme\n",
    "+Twittlerdeki bahsetmeleri, hashtagleri, url ve emojileri kaldırma"
   ]
  },
  {
   "cell_type": "code",
   "execution_count": 13,
   "id": "4ff1be23",
   "metadata": {},
   "outputs": [
    {
     "data": {
      "text/plain": [
       "0      [#COVID19, #Vaccination, #Fertilization, #Preg...\n",
       "1      [#OmicronSpawn', #covid, #covid19, #omicron, #...\n",
       "2                          [#COVID19, #twill, #muniland]\n",
       "3                                             [#COVID19]\n",
       "4      [#Qatar, #COVID19, #Ehteraz, #GPS, #Hayya, #Pr...\n",
       "                             ...                        \n",
       "368    [#Byju’s, #FY21, #edtech, #India,, #Covid19, #...\n",
       "369    [#vaccine, #pandemic., #vaccinenation, #vaccin...\n",
       "370    [#COVID19, #Covid, #vaccines,, #CovidVaccines,...\n",
       "371    [#Omicron, #COVID19, #China,, #maharashtra, #X...\n",
       "372                       [#plandemic, #Covid, #COVID19]\n",
       "Name: text, Length: 373, dtype: object"
      ]
     },
     "execution_count": 13,
     "metadata": {},
     "output_type": "execute_result"
    }
   ],
   "source": [
    "tweets_df['text'].apply(nfx.extract_hashtags)"
   ]
  },
  {
   "cell_type": "code",
   "execution_count": 14,
   "id": "32fff12b",
   "metadata": {},
   "outputs": [],
   "source": [
    "tweets_df['extract_hashtags'] = tweets_df['text'].apply(nfx.extract_hashtags)"
   ]
  },
  {
   "cell_type": "code",
   "execution_count": 15,
   "id": "02f23cb1",
   "metadata": {},
   "outputs": [
    {
     "data": {
      "text/html": [
       "<div>\n",
       "<style scoped>\n",
       "    .dataframe tbody tr th:only-of-type {\n",
       "        vertical-align: middle;\n",
       "    }\n",
       "\n",
       "    .dataframe tbody tr th {\n",
       "        vertical-align: top;\n",
       "    }\n",
       "\n",
       "    .dataframe thead th {\n",
       "        text-align: right;\n",
       "    }\n",
       "</style>\n",
       "<table border=\"1\" class=\"dataframe\">\n",
       "  <thead>\n",
       "    <tr style=\"text-align: right;\">\n",
       "      <th></th>\n",
       "      <th>extract_hashtags</th>\n",
       "      <th>hashtags</th>\n",
       "    </tr>\n",
       "  </thead>\n",
       "  <tbody>\n",
       "    <tr>\n",
       "      <th>0</th>\n",
       "      <td>[#COVID19, #Vaccination, #Fertilization, #Preg...</td>\n",
       "      <td>['COVID19', 'Vaccination', 'Fertilization', 'P...</td>\n",
       "    </tr>\n",
       "    <tr>\n",
       "      <th>1</th>\n",
       "      <td>[#OmicronSpawn', #covid, #covid19, #omicron, #...</td>\n",
       "      <td>['OmicronSpawn', 'covid']</td>\n",
       "    </tr>\n",
       "    <tr>\n",
       "      <th>2</th>\n",
       "      <td>[#COVID19, #twill, #muniland]</td>\n",
       "      <td>['COVID19']</td>\n",
       "    </tr>\n",
       "    <tr>\n",
       "      <th>3</th>\n",
       "      <td>[#COVID19]</td>\n",
       "      <td>['COVID19']</td>\n",
       "    </tr>\n",
       "    <tr>\n",
       "      <th>4</th>\n",
       "      <td>[#Qatar, #COVID19, #Ehteraz, #GPS, #Hayya, #Pr...</td>\n",
       "      <td>['Qatar', 'COVID19', 'Ehteraz', 'GPS', 'Hayya'...</td>\n",
       "    </tr>\n",
       "    <tr>\n",
       "      <th>...</th>\n",
       "      <td>...</td>\n",
       "      <td>...</td>\n",
       "    </tr>\n",
       "    <tr>\n",
       "      <th>368</th>\n",
       "      <td>[#Byju’s, #FY21, #edtech, #India,, #Covid19, #...</td>\n",
       "      <td>['Byju', 'FY21']</td>\n",
       "    </tr>\n",
       "    <tr>\n",
       "      <th>369</th>\n",
       "      <td>[#vaccine, #pandemic., #vaccinenation, #vaccin...</td>\n",
       "      <td>['vaccine', 'pandemic']</td>\n",
       "    </tr>\n",
       "    <tr>\n",
       "      <th>370</th>\n",
       "      <td>[#COVID19, #Covid, #vaccines,, #CovidVaccines,...</td>\n",
       "      <td>['COVID19']</td>\n",
       "    </tr>\n",
       "    <tr>\n",
       "      <th>371</th>\n",
       "      <td>[#Omicron, #COVID19, #China,, #maharashtra, #X...</td>\n",
       "      <td>['Omicron', 'COVID19', 'China']</td>\n",
       "    </tr>\n",
       "    <tr>\n",
       "      <th>372</th>\n",
       "      <td>[#plandemic, #Covid, #COVID19]</td>\n",
       "      <td>NaN</td>\n",
       "    </tr>\n",
       "  </tbody>\n",
       "</table>\n",
       "<p>373 rows × 2 columns</p>\n",
       "</div>"
      ],
      "text/plain": [
       "                                      extract_hashtags  \\\n",
       "0    [#COVID19, #Vaccination, #Fertilization, #Preg...   \n",
       "1    [#OmicronSpawn', #covid, #covid19, #omicron, #...   \n",
       "2                        [#COVID19, #twill, #muniland]   \n",
       "3                                           [#COVID19]   \n",
       "4    [#Qatar, #COVID19, #Ehteraz, #GPS, #Hayya, #Pr...   \n",
       "..                                                 ...   \n",
       "368  [#Byju’s, #FY21, #edtech, #India,, #Covid19, #...   \n",
       "369  [#vaccine, #pandemic., #vaccinenation, #vaccin...   \n",
       "370  [#COVID19, #Covid, #vaccines,, #CovidVaccines,...   \n",
       "371  [#Omicron, #COVID19, #China,, #maharashtra, #X...   \n",
       "372                     [#plandemic, #Covid, #COVID19]   \n",
       "\n",
       "                                              hashtags  \n",
       "0    ['COVID19', 'Vaccination', 'Fertilization', 'P...  \n",
       "1                            ['OmicronSpawn', 'covid']  \n",
       "2                                          ['COVID19']  \n",
       "3                                          ['COVID19']  \n",
       "4    ['Qatar', 'COVID19', 'Ehteraz', 'GPS', 'Hayya'...  \n",
       "..                                                 ...  \n",
       "368                                   ['Byju', 'FY21']  \n",
       "369                            ['vaccine', 'pandemic']  \n",
       "370                                        ['COVID19']  \n",
       "371                    ['Omicron', 'COVID19', 'China']  \n",
       "372                                                NaN  \n",
       "\n",
       "[373 rows x 2 columns]"
      ]
     },
     "execution_count": 15,
     "metadata": {},
     "output_type": "execute_result"
    }
   ],
   "source": [
    "tweets_df[['extract_hashtags','hashtags']]"
   ]
  },
  {
   "cell_type": "code",
   "execution_count": 16,
   "id": "845da164",
   "metadata": {},
   "outputs": [],
   "source": [
    "#Textlerden hashtagleri kaldirma\n",
    "tweets_df['clean_tweet'] = tweets_df['text'].apply(nfx.remove_hashtags)"
   ]
  },
  {
   "cell_type": "code",
   "execution_count": 17,
   "id": "37d63a2f",
   "metadata": {},
   "outputs": [
    {
     "data": {
      "text/html": [
       "<div>\n",
       "<style scoped>\n",
       "    .dataframe tbody tr th:only-of-type {\n",
       "        vertical-align: middle;\n",
       "    }\n",
       "\n",
       "    .dataframe tbody tr th {\n",
       "        vertical-align: top;\n",
       "    }\n",
       "\n",
       "    .dataframe thead th {\n",
       "        text-align: right;\n",
       "    }\n",
       "</style>\n",
       "<table border=\"1\" class=\"dataframe\">\n",
       "  <thead>\n",
       "    <tr style=\"text-align: right;\">\n",
       "      <th></th>\n",
       "      <th>text</th>\n",
       "      <th>clean_tweet</th>\n",
       "    </tr>\n",
       "  </thead>\n",
       "  <tbody>\n",
       "    <tr>\n",
       "      <th>0</th>\n",
       "      <td>Association Between Time Interval from #COVID1...</td>\n",
       "      <td>Association Between Time Interval from    \\nto...</td>\n",
       "    </tr>\n",
       "    <tr>\n",
       "      <th>1</th>\n",
       "      <td>Threat In India From New Covid Variant Of BF.7...</td>\n",
       "      <td>Threat In India From New Covid Variant Of BF.7...</td>\n",
       "    </tr>\n",
       "    <tr>\n",
       "      <th>2</th>\n",
       "      <td>If Illinois is any better off financially for ...</td>\n",
       "      <td>If Illinois is any better off financially for ...</td>\n",
       "    </tr>\n",
       "    <tr>\n",
       "      <th>3</th>\n",
       "      <td>DOH reports 1,196 new #COVID19 cases, 34 death...</td>\n",
       "      <td>DOH reports 1,196 new   cases, 34 deaths https...</td>\n",
       "    </tr>\n",
       "    <tr>\n",
       "      <th>4</th>\n",
       "      <td>#Qatar World Cup spy apps\\n#COVID19 #Ehteraz #...</td>\n",
       "      <td>World Cup spy apps\\n                 \\nhttps...</td>\n",
       "    </tr>\n",
       "    <tr>\n",
       "      <th>...</th>\n",
       "      <td>...</td>\n",
       "      <td>...</td>\n",
       "    </tr>\n",
       "    <tr>\n",
       "      <th>368</th>\n",
       "      <td>#Byju’s standalone business reported a loss fo...</td>\n",
       "      <td>standalone business reported a loss for   as...</td>\n",
       "    </tr>\n",
       "    <tr>\n",
       "      <th>369</th>\n",
       "      <td>New from @Airfinity - #vaccine prices increase...</td>\n",
       "      <td>New from @Airfinity -   prices increase to off...</td>\n",
       "    </tr>\n",
       "    <tr>\n",
       "      <th>370</th>\n",
       "      <td>#COVID19 has caused a reduction in life expect...</td>\n",
       "      <td>has caused a reduction in life expectancy. N...</td>\n",
       "    </tr>\n",
       "    <tr>\n",
       "      <th>371</th>\n",
       "      <td>#Omicron subvariant BF.7, which is leading to ...</td>\n",
       "      <td>subvariant BF.7, which is leading to a spike...</td>\n",
       "    </tr>\n",
       "    <tr>\n",
       "      <th>372</th>\n",
       "      <td>Experts slam Boston lab where scientists have ...</td>\n",
       "      <td>Experts slam Boston lab where scientists have ...</td>\n",
       "    </tr>\n",
       "  </tbody>\n",
       "</table>\n",
       "<p>373 rows × 2 columns</p>\n",
       "</div>"
      ],
      "text/plain": [
       "                                                  text  \\\n",
       "0    Association Between Time Interval from #COVID1...   \n",
       "1    Threat In India From New Covid Variant Of BF.7...   \n",
       "2    If Illinois is any better off financially for ...   \n",
       "3    DOH reports 1,196 new #COVID19 cases, 34 death...   \n",
       "4    #Qatar World Cup spy apps\\n#COVID19 #Ehteraz #...   \n",
       "..                                                 ...   \n",
       "368  #Byju’s standalone business reported a loss fo...   \n",
       "369  New from @Airfinity - #vaccine prices increase...   \n",
       "370  #COVID19 has caused a reduction in life expect...   \n",
       "371  #Omicron subvariant BF.7, which is leading to ...   \n",
       "372  Experts slam Boston lab where scientists have ...   \n",
       "\n",
       "                                           clean_tweet  \n",
       "0    Association Between Time Interval from    \\nto...  \n",
       "1    Threat In India From New Covid Variant Of BF.7...  \n",
       "2    If Illinois is any better off financially for ...  \n",
       "3    DOH reports 1,196 new   cases, 34 deaths https...  \n",
       "4      World Cup spy apps\\n                 \\nhttps...  \n",
       "..                                                 ...  \n",
       "368    standalone business reported a loss for   as...  \n",
       "369  New from @Airfinity -   prices increase to off...  \n",
       "370    has caused a reduction in life expectancy. N...  \n",
       "371    subvariant BF.7, which is leading to a spike...  \n",
       "372  Experts slam Boston lab where scientists have ...  \n",
       "\n",
       "[373 rows x 2 columns]"
      ]
     },
     "execution_count": 17,
     "metadata": {},
     "output_type": "execute_result"
    }
   ],
   "source": [
    "tweets_df[['text', 'clean_tweet']]"
   ]
  },
  {
   "cell_type": "code",
   "execution_count": 18,
   "id": "ea4be3aa",
   "metadata": {},
   "outputs": [],
   "source": [
    "tweets_df['clean_tweet'] = tweets_df['clean_tweet'].apply(lambda x: nfx.remove_userhandles(x))"
   ]
  },
  {
   "cell_type": "code",
   "execution_count": 19,
   "id": "fed64858",
   "metadata": {},
   "outputs": [
    {
     "data": {
      "text/html": [
       "<div>\n",
       "<style scoped>\n",
       "    .dataframe tbody tr th:only-of-type {\n",
       "        vertical-align: middle;\n",
       "    }\n",
       "\n",
       "    .dataframe tbody tr th {\n",
       "        vertical-align: top;\n",
       "    }\n",
       "\n",
       "    .dataframe thead th {\n",
       "        text-align: right;\n",
       "    }\n",
       "</style>\n",
       "<table border=\"1\" class=\"dataframe\">\n",
       "  <thead>\n",
       "    <tr style=\"text-align: right;\">\n",
       "      <th></th>\n",
       "      <th>text</th>\n",
       "      <th>clean_tweet</th>\n",
       "    </tr>\n",
       "  </thead>\n",
       "  <tbody>\n",
       "    <tr>\n",
       "      <th>0</th>\n",
       "      <td>Association Between Time Interval from #COVID1...</td>\n",
       "      <td>Association Between Time Interval from    \\nto...</td>\n",
       "    </tr>\n",
       "    <tr>\n",
       "      <th>1</th>\n",
       "      <td>Threat In India From New Covid Variant Of BF.7...</td>\n",
       "      <td>Threat In India From New Covid Variant Of BF.7...</td>\n",
       "    </tr>\n",
       "    <tr>\n",
       "      <th>2</th>\n",
       "      <td>If Illinois is any better off financially for ...</td>\n",
       "      <td>If Illinois is any better off financially for ...</td>\n",
       "    </tr>\n",
       "    <tr>\n",
       "      <th>3</th>\n",
       "      <td>DOH reports 1,196 new #COVID19 cases, 34 death...</td>\n",
       "      <td>DOH reports 1,196 new   cases, 34 deaths https...</td>\n",
       "    </tr>\n",
       "    <tr>\n",
       "      <th>4</th>\n",
       "      <td>#Qatar World Cup spy apps\\n#COVID19 #Ehteraz #...</td>\n",
       "      <td>World Cup spy apps\\n                 \\nhttps...</td>\n",
       "    </tr>\n",
       "    <tr>\n",
       "      <th>...</th>\n",
       "      <td>...</td>\n",
       "      <td>...</td>\n",
       "    </tr>\n",
       "    <tr>\n",
       "      <th>368</th>\n",
       "      <td>#Byju’s standalone business reported a loss fo...</td>\n",
       "      <td>standalone business reported a loss for   as...</td>\n",
       "    </tr>\n",
       "    <tr>\n",
       "      <th>369</th>\n",
       "      <td>New from @Airfinity - #vaccine prices increase...</td>\n",
       "      <td>New from   -   prices increase to off-set drop...</td>\n",
       "    </tr>\n",
       "    <tr>\n",
       "      <th>370</th>\n",
       "      <td>#COVID19 has caused a reduction in life expect...</td>\n",
       "      <td>has caused a reduction in life expectancy. N...</td>\n",
       "    </tr>\n",
       "    <tr>\n",
       "      <th>371</th>\n",
       "      <td>#Omicron subvariant BF.7, which is leading to ...</td>\n",
       "      <td>subvariant BF.7, which is leading to a spike...</td>\n",
       "    </tr>\n",
       "    <tr>\n",
       "      <th>372</th>\n",
       "      <td>Experts slam Boston lab where scientists have ...</td>\n",
       "      <td>Experts slam Boston lab where scientists have ...</td>\n",
       "    </tr>\n",
       "  </tbody>\n",
       "</table>\n",
       "<p>373 rows × 2 columns</p>\n",
       "</div>"
      ],
      "text/plain": [
       "                                                  text  \\\n",
       "0    Association Between Time Interval from #COVID1...   \n",
       "1    Threat In India From New Covid Variant Of BF.7...   \n",
       "2    If Illinois is any better off financially for ...   \n",
       "3    DOH reports 1,196 new #COVID19 cases, 34 death...   \n",
       "4    #Qatar World Cup spy apps\\n#COVID19 #Ehteraz #...   \n",
       "..                                                 ...   \n",
       "368  #Byju’s standalone business reported a loss fo...   \n",
       "369  New from @Airfinity - #vaccine prices increase...   \n",
       "370  #COVID19 has caused a reduction in life expect...   \n",
       "371  #Omicron subvariant BF.7, which is leading to ...   \n",
       "372  Experts slam Boston lab where scientists have ...   \n",
       "\n",
       "                                           clean_tweet  \n",
       "0    Association Between Time Interval from    \\nto...  \n",
       "1    Threat In India From New Covid Variant Of BF.7...  \n",
       "2    If Illinois is any better off financially for ...  \n",
       "3    DOH reports 1,196 new   cases, 34 deaths https...  \n",
       "4      World Cup spy apps\\n                 \\nhttps...  \n",
       "..                                                 ...  \n",
       "368    standalone business reported a loss for   as...  \n",
       "369  New from   -   prices increase to off-set drop...  \n",
       "370    has caused a reduction in life expectancy. N...  \n",
       "371    subvariant BF.7, which is leading to a spike...  \n",
       "372  Experts slam Boston lab where scientists have ...  \n",
       "\n",
       "[373 rows x 2 columns]"
      ]
     },
     "execution_count": 19,
     "metadata": {},
     "output_type": "execute_result"
    }
   ],
   "source": [
    "tweets_df[['text', 'clean_tweet']]"
   ]
  },
  {
   "cell_type": "code",
   "execution_count": 20,
   "id": "7b08b64b",
   "metadata": {},
   "outputs": [],
   "source": [
    "#Textlerden boşlukları kaldirma\n",
    "tweets_df['clean_tweet'] = tweets_df['clean_tweet'].apply(nfx.remove_multiple_spaces)"
   ]
  },
  {
   "cell_type": "code",
   "execution_count": 21,
   "id": "5b74fba5",
   "metadata": {},
   "outputs": [],
   "source": [
    "#Textlerden url kaldirma\n",
    "tweets_df['clean_tweet'] = tweets_df['clean_tweet'].apply(nfx.remove_urls)"
   ]
  },
  {
   "cell_type": "code",
   "execution_count": 22,
   "id": "d08728bd",
   "metadata": {},
   "outputs": [],
   "source": [
    "#Textlerden noktalama işaretleri kaldirma\n",
    "tweets_df['clean_tweet'] = tweets_df['clean_tweet'].apply(nfx.remove_puncts)"
   ]
  },
  {
   "cell_type": "code",
   "execution_count": 23,
   "id": "fa610e01",
   "metadata": {},
   "outputs": [
    {
     "data": {
      "text/html": [
       "<div>\n",
       "<style scoped>\n",
       "    .dataframe tbody tr th:only-of-type {\n",
       "        vertical-align: middle;\n",
       "    }\n",
       "\n",
       "    .dataframe tbody tr th {\n",
       "        vertical-align: top;\n",
       "    }\n",
       "\n",
       "    .dataframe thead th {\n",
       "        text-align: right;\n",
       "    }\n",
       "</style>\n",
       "<table border=\"1\" class=\"dataframe\">\n",
       "  <thead>\n",
       "    <tr style=\"text-align: right;\">\n",
       "      <th></th>\n",
       "      <th>text</th>\n",
       "      <th>clean_tweet</th>\n",
       "    </tr>\n",
       "  </thead>\n",
       "  <tbody>\n",
       "    <tr>\n",
       "      <th>0</th>\n",
       "      <td>Association Between Time Interval from #COVID1...</td>\n",
       "      <td>Association Between Time Interval from to In V...</td>\n",
       "    </tr>\n",
       "    <tr>\n",
       "      <th>1</th>\n",
       "      <td>Threat In India From New Covid Variant Of BF.7...</td>\n",
       "      <td>Threat In India From New Covid Variant Of BF7 ...</td>\n",
       "    </tr>\n",
       "    <tr>\n",
       "      <th>2</th>\n",
       "      <td>If Illinois is any better off financially for ...</td>\n",
       "      <td>If Illinois is any better off financially for ...</td>\n",
       "    </tr>\n",
       "    <tr>\n",
       "      <th>3</th>\n",
       "      <td>DOH reports 1,196 new #COVID19 cases, 34 death...</td>\n",
       "      <td>DOH reports 1196 new cases 34 deaths</td>\n",
       "    </tr>\n",
       "    <tr>\n",
       "      <th>4</th>\n",
       "      <td>#Qatar World Cup spy apps\\n#COVID19 #Ehteraz #...</td>\n",
       "      <td>World Cup spy apps</td>\n",
       "    </tr>\n",
       "    <tr>\n",
       "      <th>...</th>\n",
       "      <td>...</td>\n",
       "      <td>...</td>\n",
       "    </tr>\n",
       "    <tr>\n",
       "      <th>368</th>\n",
       "      <td>#Byju’s standalone business reported a loss fo...</td>\n",
       "      <td>standalone business reported a loss for as th...</td>\n",
       "    </tr>\n",
       "    <tr>\n",
       "      <th>369</th>\n",
       "      <td>New from @Airfinity - #vaccine prices increase...</td>\n",
       "      <td>New from  prices increase to offset dropping d...</td>\n",
       "    </tr>\n",
       "    <tr>\n",
       "      <th>370</th>\n",
       "      <td>#COVID19 has caused a reduction in life expect...</td>\n",
       "      <td>has caused a reduction in life expectancy Not...</td>\n",
       "    </tr>\n",
       "    <tr>\n",
       "      <th>371</th>\n",
       "      <td>#Omicron subvariant BF.7, which is leading to ...</td>\n",
       "      <td>subvariant BF7 which is leading to a spike in...</td>\n",
       "    </tr>\n",
       "    <tr>\n",
       "      <th>372</th>\n",
       "      <td>Experts slam Boston lab where scientists have ...</td>\n",
       "      <td>Experts slam Boston lab where scientists have ...</td>\n",
       "    </tr>\n",
       "  </tbody>\n",
       "</table>\n",
       "<p>373 rows × 2 columns</p>\n",
       "</div>"
      ],
      "text/plain": [
       "                                                  text  \\\n",
       "0    Association Between Time Interval from #COVID1...   \n",
       "1    Threat In India From New Covid Variant Of BF.7...   \n",
       "2    If Illinois is any better off financially for ...   \n",
       "3    DOH reports 1,196 new #COVID19 cases, 34 death...   \n",
       "4    #Qatar World Cup spy apps\\n#COVID19 #Ehteraz #...   \n",
       "..                                                 ...   \n",
       "368  #Byju’s standalone business reported a loss fo...   \n",
       "369  New from @Airfinity - #vaccine prices increase...   \n",
       "370  #COVID19 has caused a reduction in life expect...   \n",
       "371  #Omicron subvariant BF.7, which is leading to ...   \n",
       "372  Experts slam Boston lab where scientists have ...   \n",
       "\n",
       "                                           clean_tweet  \n",
       "0    Association Between Time Interval from to In V...  \n",
       "1    Threat In India From New Covid Variant Of BF7 ...  \n",
       "2    If Illinois is any better off financially for ...  \n",
       "3                DOH reports 1196 new cases 34 deaths   \n",
       "4                                 World Cup spy apps    \n",
       "..                                                 ...  \n",
       "368   standalone business reported a loss for as th...  \n",
       "369  New from  prices increase to offset dropping d...  \n",
       "370   has caused a reduction in life expectancy Not...  \n",
       "371   subvariant BF7 which is leading to a spike in...  \n",
       "372  Experts slam Boston lab where scientists have ...  \n",
       "\n",
       "[373 rows x 2 columns]"
      ]
     },
     "execution_count": 23,
     "metadata": {},
     "output_type": "execute_result"
    }
   ],
   "source": [
    "tweets_df[['text', 'clean_tweet']]"
   ]
  },
  {
   "cell_type": "code",
   "execution_count": 24,
   "id": "e2b8d41f",
   "metadata": {},
   "outputs": [],
   "source": [
    "###Duygu Analizi"
   ]
  },
  {
   "cell_type": "code",
   "execution_count": 25,
   "id": "bf40ec2d",
   "metadata": {},
   "outputs": [
    {
     "name": "stdout",
     "output_type": "stream",
     "text": [
      "Requirement already satisfied: TextBlob in c:\\users\\ozlem\\anaconda3\\lib\\site-packages (0.17.1)\n",
      "Requirement already satisfied: nltk>=3.1 in c:\\users\\ozlem\\anaconda3\\lib\\site-packages (from TextBlob) (3.7)\n",
      "Requirement already satisfied: click in c:\\users\\ozlem\\anaconda3\\lib\\site-packages (from nltk>=3.1->TextBlob) (8.0.4)\n",
      "Requirement already satisfied: joblib in c:\\users\\ozlem\\anaconda3\\lib\\site-packages (from nltk>=3.1->TextBlob) (1.1.0)\n",
      "Requirement already satisfied: tqdm in c:\\users\\ozlem\\anaconda3\\lib\\site-packages (from nltk>=3.1->TextBlob) (4.64.0)\n",
      "Requirement already satisfied: regex>=2021.8.3 in c:\\users\\ozlem\\anaconda3\\lib\\site-packages (from nltk>=3.1->TextBlob) (2022.3.15)\n",
      "Requirement already satisfied: colorama in c:\\users\\ozlem\\anaconda3\\lib\\site-packages (from click->nltk>=3.1->TextBlob) (0.4.4)\n",
      "Note: you may need to restart the kernel to use updated packages.\n"
     ]
    }
   ],
   "source": [
    "pip install TextBlob"
   ]
  },
  {
   "cell_type": "code",
   "execution_count": 26,
   "id": "3d220d60",
   "metadata": {},
   "outputs": [],
   "source": [
    "from textblob import TextBlob"
   ]
  },
  {
   "cell_type": "code",
   "execution_count": 27,
   "id": "b976f891",
   "metadata": {},
   "outputs": [],
   "source": [
    "def get_sentiment(text):\n",
    "    blob = TextBlob(text)\n",
    "    sentiment_polarity = blob.sentiment.polarity\n",
    "    sentiment_subjectivity = blob.sentiment.subjectivity\n",
    "    if sentiment_polarity > 0:\n",
    "        sentiment_label = 'Positive'\n",
    "    elif sentiment_polarity < 0:\n",
    "        sentiment_label = 'Negative'\n",
    "    else:\n",
    "        sentiment_label = 'Neutral'\n",
    "    result = {'polarity':sentiment_polarity, \n",
    "              'subjectivity':sentiment_subjectivity, \n",
    "              'sentiment':sentiment_label}\n",
    "    return result"
   ]
  },
  {
   "cell_type": "code",
   "execution_count": 28,
   "id": "94ff6b97",
   "metadata": {},
   "outputs": [],
   "source": [
    "#ornek Text\n",
    "ex1 = tweets_df['clean_tweet'].iloc[0]"
   ]
  },
  {
   "cell_type": "code",
   "execution_count": 29,
   "id": "b71152a1",
   "metadata": {},
   "outputs": [
    {
     "data": {
      "text/plain": [
       "{'polarity': 0.3, 'subjectivity': 0.5, 'sentiment': 'Positive'}"
      ]
     },
     "execution_count": 29,
     "metadata": {},
     "output_type": "execute_result"
    }
   ],
   "source": [
    "get_sentiment(ex1)"
   ]
  },
  {
   "cell_type": "code",
   "execution_count": 30,
   "id": "3aa9ac1b",
   "metadata": {},
   "outputs": [],
   "source": [
    "tweets_df['sentiment_result'] = tweets_df['clean_tweet'].apply(get_sentiment)"
   ]
  },
  {
   "cell_type": "code",
   "execution_count": 31,
   "id": "79ee20a5",
   "metadata": {},
   "outputs": [
    {
     "data": {
      "text/plain": [
       "0      {'polarity': 0.3, 'subjectivity': 0.5, 'sentim...\n",
       "1      {'polarity': 0.13636363636363635, 'subjectivit...\n",
       "2      {'polarity': 0.25, 'subjectivity': 0.25, 'sent...\n",
       "3      {'polarity': 0.13636363636363635, 'subjectivit...\n",
       "4      {'polarity': 0.0, 'subjectivity': 0.0, 'sentim...\n",
       "                             ...                        \n",
       "368    {'polarity': 0.2, 'subjectivity': 0.2, 'sentim...\n",
       "369    {'polarity': 0.13636363636363635, 'subjectivit...\n",
       "370    {'polarity': 0.5333333333333333, 'subjectivity...\n",
       "371    {'polarity': 0.275, 'subjectivity': 0.6875, 's...\n",
       "372    {'polarity': -0.02121212121212122, 'subjectivi...\n",
       "Name: sentiment_result, Length: 373, dtype: object"
      ]
     },
     "execution_count": 31,
     "metadata": {},
     "output_type": "execute_result"
    }
   ],
   "source": [
    "tweets_df['sentiment_result']"
   ]
  },
  {
   "cell_type": "code",
   "execution_count": 32,
   "id": "06d07bfa",
   "metadata": {},
   "outputs": [
    {
     "data": {
      "text/html": [
       "<div>\n",
       "<style scoped>\n",
       "    .dataframe tbody tr th:only-of-type {\n",
       "        vertical-align: middle;\n",
       "    }\n",
       "\n",
       "    .dataframe tbody tr th {\n",
       "        vertical-align: top;\n",
       "    }\n",
       "\n",
       "    .dataframe thead th {\n",
       "        text-align: right;\n",
       "    }\n",
       "</style>\n",
       "<table border=\"1\" class=\"dataframe\">\n",
       "  <thead>\n",
       "    <tr style=\"text-align: right;\">\n",
       "      <th></th>\n",
       "      <th>polarity</th>\n",
       "      <th>subjectivity</th>\n",
       "      <th>sentiment</th>\n",
       "    </tr>\n",
       "  </thead>\n",
       "  <tbody>\n",
       "    <tr>\n",
       "      <th>0</th>\n",
       "      <td>0.3</td>\n",
       "      <td>0.5</td>\n",
       "      <td>Positive</td>\n",
       "    </tr>\n",
       "  </tbody>\n",
       "</table>\n",
       "</div>"
      ],
      "text/plain": [
       "   polarity  subjectivity sentiment\n",
       "0       0.3           0.5  Positive"
      ]
     },
     "execution_count": 32,
     "metadata": {},
     "output_type": "execute_result"
    }
   ],
   "source": [
    "pd.json_normalize(tweets_df['sentiment_result'].iloc[0])"
   ]
  },
  {
   "cell_type": "code",
   "execution_count": 33,
   "id": "28e02aba",
   "metadata": {},
   "outputs": [],
   "source": [
    "tweets_df = tweets_df.join(pd.json_normalize(tweets_df['sentiment_result']))"
   ]
  },
  {
   "cell_type": "code",
   "execution_count": 34,
   "id": "248725b6",
   "metadata": {
    "scrolled": true
   },
   "outputs": [
    {
     "data": {
      "text/html": [
       "<div>\n",
       "<style scoped>\n",
       "    .dataframe tbody tr th:only-of-type {\n",
       "        vertical-align: middle;\n",
       "    }\n",
       "\n",
       "    .dataframe tbody tr th {\n",
       "        vertical-align: top;\n",
       "    }\n",
       "\n",
       "    .dataframe thead th {\n",
       "        text-align: right;\n",
       "    }\n",
       "</style>\n",
       "<table border=\"1\" class=\"dataframe\">\n",
       "  <thead>\n",
       "    <tr style=\"text-align: right;\">\n",
       "      <th></th>\n",
       "      <th>Unnamed: 0</th>\n",
       "      <th>user_name</th>\n",
       "      <th>user_location</th>\n",
       "      <th>user_description</th>\n",
       "      <th>user_created</th>\n",
       "      <th>user_followers</th>\n",
       "      <th>user_friends</th>\n",
       "      <th>user_favourites</th>\n",
       "      <th>user_verified</th>\n",
       "      <th>date</th>\n",
       "      <th>text</th>\n",
       "      <th>hashtags</th>\n",
       "      <th>source</th>\n",
       "      <th>is_retweet</th>\n",
       "      <th>extract_hashtags</th>\n",
       "      <th>clean_tweet</th>\n",
       "      <th>sentiment_result</th>\n",
       "      <th>polarity</th>\n",
       "      <th>subjectivity</th>\n",
       "      <th>sentiment</th>\n",
       "    </tr>\n",
       "  </thead>\n",
       "  <tbody>\n",
       "    <tr>\n",
       "      <th>0</th>\n",
       "      <td>0</td>\n",
       "      <td>GIP.UNIOVI</td>\n",
       "      <td>43.364375,-5.838212</td>\n",
       "      <td>Grupo de Investigación Psicosocial: ARPANET-BI...</td>\n",
       "      <td>2011-08-20 08:16:40+00:00</td>\n",
       "      <td>579</td>\n",
       "      <td>877</td>\n",
       "      <td>1933</td>\n",
       "      <td>False</td>\n",
       "      <td>2022-10-18 11:56:25+00:00</td>\n",
       "      <td>Association Between Time Interval from #COVID1...</td>\n",
       "      <td>['COVID19', 'Vaccination', 'Fertilization', 'P...</td>\n",
       "      <td>Twitter for iPad</td>\n",
       "      <td>False</td>\n",
       "      <td>[#COVID19, #Vaccination, #Fertilization, #Preg...</td>\n",
       "      <td>Association Between Time Interval from to In V...</td>\n",
       "      <td>{'polarity': 0.3, 'subjectivity': 0.5, 'sentim...</td>\n",
       "      <td>0.300000</td>\n",
       "      <td>0.500000</td>\n",
       "      <td>Positive</td>\n",
       "    </tr>\n",
       "    <tr>\n",
       "      <th>1</th>\n",
       "      <td>0</td>\n",
       "      <td>BW Businessworld</td>\n",
       "      <td>New Delhi</td>\n",
       "      <td>BW Businessworld is India’s largest &amp; most res...</td>\n",
       "      <td>2009-05-01 05:57:27+00:00</td>\n",
       "      <td>21469</td>\n",
       "      <td>435</td>\n",
       "      <td>5266</td>\n",
       "      <td>False</td>\n",
       "      <td>2022-10-18 11:56:13+00:00</td>\n",
       "      <td>Threat In India From New Covid Variant Of BF.7...</td>\n",
       "      <td>['OmicronSpawn', 'covid']</td>\n",
       "      <td>Twitter Web App</td>\n",
       "      <td>False</td>\n",
       "      <td>[#OmicronSpawn', #covid, #covid19, #omicron, #...</td>\n",
       "      <td>Threat In India From New Covid Variant Of BF7 ...</td>\n",
       "      <td>{'polarity': 0.13636363636363635, 'subjectivit...</td>\n",
       "      <td>0.136364</td>\n",
       "      <td>0.454545</td>\n",
       "      <td>Positive</td>\n",
       "    </tr>\n",
       "    <tr>\n",
       "      <th>2</th>\n",
       "      <td>0</td>\n",
       "      <td>Wirepoints</td>\n",
       "      <td>Chicago, IL</td>\n",
       "      <td>Independent research, commentary and news aggr...</td>\n",
       "      <td>2012-11-02 22:32:56+00:00</td>\n",
       "      <td>5412</td>\n",
       "      <td>1000</td>\n",
       "      <td>9843</td>\n",
       "      <td>False</td>\n",
       "      <td>2022-10-18 11:55:41+00:00</td>\n",
       "      <td>If Illinois is any better off financially for ...</td>\n",
       "      <td>['COVID19']</td>\n",
       "      <td>Twitter Web App</td>\n",
       "      <td>False</td>\n",
       "      <td>[#COVID19, #twill, #muniland]</td>\n",
       "      <td>If Illinois is any better off financially for ...</td>\n",
       "      <td>{'polarity': 0.25, 'subjectivity': 0.25, 'sent...</td>\n",
       "      <td>0.250000</td>\n",
       "      <td>0.250000</td>\n",
       "      <td>Positive</td>\n",
       "    </tr>\n",
       "    <tr>\n",
       "      <th>3</th>\n",
       "      <td>0</td>\n",
       "      <td>ABS-CBN News</td>\n",
       "      <td>Manila, Philippines</td>\n",
       "      <td>Stories, video, and multimedia for Filipinos w...</td>\n",
       "      <td>2008-08-16 10:09:33+00:00</td>\n",
       "      <td>8769229</td>\n",
       "      <td>1063</td>\n",
       "      <td>1299</td>\n",
       "      <td>True</td>\n",
       "      <td>2022-10-18 11:55:00+00:00</td>\n",
       "      <td>DOH reports 1,196 new #COVID19 cases, 34 death...</td>\n",
       "      <td>['COVID19']</td>\n",
       "      <td>TweetDeck</td>\n",
       "      <td>False</td>\n",
       "      <td>[#COVID19]</td>\n",
       "      <td>DOH reports 1196 new cases 34 deaths</td>\n",
       "      <td>{'polarity': 0.13636363636363635, 'subjectivit...</td>\n",
       "      <td>0.136364</td>\n",
       "      <td>0.454545</td>\n",
       "      <td>Positive</td>\n",
       "    </tr>\n",
       "    <tr>\n",
       "      <th>4</th>\n",
       "      <td>0</td>\n",
       "      <td>TheAllINeed.com</td>\n",
       "      <td>NaN</td>\n",
       "      <td>This website is The All I Need. 😀</td>\n",
       "      <td>2011-05-24 04:34:49+00:00</td>\n",
       "      <td>4158</td>\n",
       "      <td>1</td>\n",
       "      <td>736</td>\n",
       "      <td>False</td>\n",
       "      <td>2022-10-18 11:54:58+00:00</td>\n",
       "      <td>#Qatar World Cup spy apps\\n#COVID19 #Ehteraz #...</td>\n",
       "      <td>['Qatar', 'COVID19', 'Ehteraz', 'GPS', 'Hayya'...</td>\n",
       "      <td>TheAllINeed</td>\n",
       "      <td>False</td>\n",
       "      <td>[#Qatar, #COVID19, #Ehteraz, #GPS, #Hayya, #Pr...</td>\n",
       "      <td>World Cup spy apps</td>\n",
       "      <td>{'polarity': 0.0, 'subjectivity': 0.0, 'sentim...</td>\n",
       "      <td>0.000000</td>\n",
       "      <td>0.000000</td>\n",
       "      <td>Neutral</td>\n",
       "    </tr>\n",
       "  </tbody>\n",
       "</table>\n",
       "</div>"
      ],
      "text/plain": [
       "   Unnamed: 0         user_name        user_location  \\\n",
       "0           0        GIP.UNIOVI  43.364375,-5.838212   \n",
       "1           0  BW Businessworld            New Delhi   \n",
       "2           0        Wirepoints          Chicago, IL   \n",
       "3           0      ABS-CBN News  Manila, Philippines   \n",
       "4           0   TheAllINeed.com                  NaN   \n",
       "\n",
       "                                    user_description  \\\n",
       "0  Grupo de Investigación Psicosocial: ARPANET-BI...   \n",
       "1  BW Businessworld is India’s largest & most res...   \n",
       "2  Independent research, commentary and news aggr...   \n",
       "3  Stories, video, and multimedia for Filipinos w...   \n",
       "4                  This website is The All I Need. 😀   \n",
       "\n",
       "                user_created  user_followers  user_friends  user_favourites  \\\n",
       "0  2011-08-20 08:16:40+00:00             579           877             1933   \n",
       "1  2009-05-01 05:57:27+00:00           21469           435             5266   \n",
       "2  2012-11-02 22:32:56+00:00            5412          1000             9843   \n",
       "3  2008-08-16 10:09:33+00:00         8769229          1063             1299   \n",
       "4  2011-05-24 04:34:49+00:00            4158             1              736   \n",
       "\n",
       "   user_verified                       date  \\\n",
       "0          False  2022-10-18 11:56:25+00:00   \n",
       "1          False  2022-10-18 11:56:13+00:00   \n",
       "2          False  2022-10-18 11:55:41+00:00   \n",
       "3           True  2022-10-18 11:55:00+00:00   \n",
       "4          False  2022-10-18 11:54:58+00:00   \n",
       "\n",
       "                                                text  \\\n",
       "0  Association Between Time Interval from #COVID1...   \n",
       "1  Threat In India From New Covid Variant Of BF.7...   \n",
       "2  If Illinois is any better off financially for ...   \n",
       "3  DOH reports 1,196 new #COVID19 cases, 34 death...   \n",
       "4  #Qatar World Cup spy apps\\n#COVID19 #Ehteraz #...   \n",
       "\n",
       "                                            hashtags            source  \\\n",
       "0  ['COVID19', 'Vaccination', 'Fertilization', 'P...  Twitter for iPad   \n",
       "1                          ['OmicronSpawn', 'covid']   Twitter Web App   \n",
       "2                                        ['COVID19']   Twitter Web App   \n",
       "3                                        ['COVID19']         TweetDeck   \n",
       "4  ['Qatar', 'COVID19', 'Ehteraz', 'GPS', 'Hayya'...       TheAllINeed   \n",
       "\n",
       "   is_retweet                                   extract_hashtags  \\\n",
       "0       False  [#COVID19, #Vaccination, #Fertilization, #Preg...   \n",
       "1       False  [#OmicronSpawn', #covid, #covid19, #omicron, #...   \n",
       "2       False                      [#COVID19, #twill, #muniland]   \n",
       "3       False                                         [#COVID19]   \n",
       "4       False  [#Qatar, #COVID19, #Ehteraz, #GPS, #Hayya, #Pr...   \n",
       "\n",
       "                                         clean_tweet  \\\n",
       "0  Association Between Time Interval from to In V...   \n",
       "1  Threat In India From New Covid Variant Of BF7 ...   \n",
       "2  If Illinois is any better off financially for ...   \n",
       "3              DOH reports 1196 new cases 34 deaths    \n",
       "4                               World Cup spy apps     \n",
       "\n",
       "                                    sentiment_result  polarity  subjectivity  \\\n",
       "0  {'polarity': 0.3, 'subjectivity': 0.5, 'sentim...  0.300000      0.500000   \n",
       "1  {'polarity': 0.13636363636363635, 'subjectivit...  0.136364      0.454545   \n",
       "2  {'polarity': 0.25, 'subjectivity': 0.25, 'sent...  0.250000      0.250000   \n",
       "3  {'polarity': 0.13636363636363635, 'subjectivit...  0.136364      0.454545   \n",
       "4  {'polarity': 0.0, 'subjectivity': 0.0, 'sentim...  0.000000      0.000000   \n",
       "\n",
       "  sentiment  \n",
       "0  Positive  \n",
       "1  Positive  \n",
       "2  Positive  \n",
       "3  Positive  \n",
       "4   Neutral  "
      ]
     },
     "execution_count": 34,
     "metadata": {},
     "output_type": "execute_result"
    }
   ],
   "source": [
    "tweets_df.head()"
   ]
  },
  {
   "cell_type": "code",
   "execution_count": 35,
   "id": "381538f5",
   "metadata": {},
   "outputs": [
    {
     "data": {
      "text/plain": [
       "Positive    177\n",
       "Neutral     123\n",
       "Negative     73\n",
       "Name: sentiment, dtype: int64"
      ]
     },
     "execution_count": 35,
     "metadata": {},
     "output_type": "execute_result"
    }
   ],
   "source": [
    "tweets_df['sentiment'].value_counts()"
   ]
  },
  {
   "cell_type": "code",
   "execution_count": 37,
   "id": "12fd9a45",
   "metadata": {},
   "outputs": [
    {
     "data": {
      "text/plain": [
       "<AxesSubplot:xlabel='sentiment', ylabel='count'>"
      ]
     },
     "execution_count": 37,
     "metadata": {},
     "output_type": "execute_result"
    },
    {
     "data": {
      "image/png": "[encoded data removed]",
      "text/plain": [
       "<Figure size 432x288 with 1 Axes>"
      ]
     },
     "metadata": {
      "needs_background": "light"
     },
     "output_type": "display_data"
    }
   ],
   "source": [
    "sns.countplot(tweets_df['sentiment'])"
   ]
  },
  {
   "cell_type": "code",
   "execution_count": null,
   "id": "61045034",
   "metadata": {},
   "outputs": [],
   "source": []
  }
 ],
 "metadata": {
  "kernelspec": {
   "display_name": "Python 3 (ipykernel)",
   "language": "python",
   "name": "python3"
  },
  "language_info": {
   "codemirror_mode": {
    "name": "ipython",
    "version": 3
   },
   "file_extension": ".py",
   "mimetype": "text/x-python",
   "name": "python",
   "nbconvert_exporter": "python",
   "pygments_lexer": "ipython3",
   "version": "3.9.12"
  }
 },
 "nbformat": 4,
 "nbformat_minor": 5
}
